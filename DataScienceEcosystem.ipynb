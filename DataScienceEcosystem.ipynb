{
  "nbformat": 4,
  "nbformat_minor": 0,
  "metadata": {
    "colab": {
      "provenance": []
    },
    "kernelspec": {
      "name": "python3",
      "display_name": "Python 3"
    },
    "language_info": {
      "name": "python"
    }
  },
  "cells": [
    {
      "cell_type": "markdown",
      "source": [
        "# Data Science Tools and Ecosystem"
      ],
      "metadata": {
        "id": "XEIGTaP94clT"
      }
    },
    {
      "cell_type": "markdown",
      "source": [
        "In this notebook, Data Science Tools and Ecosystems are summarized."
      ],
      "metadata": {
        "id": "M7_gXmGr4ubN"
      }
    },
    {
      "cell_type": "markdown",
      "source": [
        "**Objectives:**\n",
        "\n",
        "\n",
        "\n",
        "*   List popular languages for Data Scientists\n",
        "*   List common libraries used by Data Scientists\n",
        "*   List some open source development environments used in Data Science\n",
        "*   Show some code examples\n"
      ],
      "metadata": {
        "id": "39QnMVfg9DGc"
      }
    },
    {
      "cell_type": "markdown",
      "source": [
        "Some of the popular languages that Data Scientists use are:\n",
        "\n",
        "\n",
        "1.   Python\n",
        "2.   R\n",
        "3.   Scala\n",
        "4.   Julia\n",
        "5.   Java\n",
        "6.   C++\n",
        "\n"
      ],
      "metadata": {
        "id": "3YU2pbPK4-56"
      }
    },
    {
      "cell_type": "markdown",
      "source": [
        "Some of the commonly used libraries used by Data Scientists include:\n",
        "\n",
        "\n",
        "1.   scikit-learn\n",
        "2.   Pandas\n",
        "3.   matplotlib\n",
        "4.   TensorFlow\n",
        "\n"
      ],
      "metadata": {
        "id": "_jWe4u5M5XuR"
      }
    },
    {
      "cell_type": "markdown",
      "source": [
        "| Data Science Tools |\n",
        "| ---- |\n",
        "| Jupyter Notebooks |\n",
        "| RStudio |\n",
        "| VS Code |"
      ],
      "metadata": {
        "id": "fxSlcFo751rO"
      }
    },
    {
      "cell_type": "markdown",
      "source": [
        "### Below are a few examples of evaluating arithmetic expressions in Python\n"
      ],
      "metadata": {
        "id": "MHcMZXsK7qYF"
      }
    },
    {
      "cell_type": "code",
      "source": [
        "# This a simple arithmetic expression to multiply then add integers\n",
        "\n",
        "(3*4) + 5"
      ],
      "metadata": {
        "colab": {
          "base_uri": "https://localhost:8080/"
        },
        "id": "GLb_3fgh8Ox-",
        "outputId": "b5e29897-1366-4345-a169-e3995245aa87"
      },
      "execution_count": 2,
      "outputs": [
        {
          "output_type": "execute_result",
          "data": {
            "text/plain": [
              "17"
            ]
          },
          "metadata": {},
          "execution_count": 2
        }
      ]
    },
    {
      "cell_type": "code",
      "source": [
        "# This will convert 200 minutes to hours by dividing by 60\n",
        "\n",
        "minutes = 200\n",
        "hours = minutes / 60\n",
        "print(hours)"
      ],
      "metadata": {
        "colab": {
          "base_uri": "https://localhost:8080/"
        },
        "id": "AemMVXO08m54",
        "outputId": "5979f5a6-7f47-47c5-f40e-0abf3ddf1891"
      },
      "execution_count": 3,
      "outputs": [
        {
          "output_type": "stream",
          "name": "stdout",
          "text": [
            "3.3333333333333335\n"
          ]
        }
      ]
    },
    {
      "cell_type": "markdown",
      "source": [
        "## Author\n",
        "\n",
        "Gabriel Peixoto"
      ],
      "metadata": {
        "id": "7S1wg02n95M4"
      }
    }
  ]
}